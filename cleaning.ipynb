{
 "cells": [
  {
   "cell_type": "markdown",
   "metadata": {},
   "source": [
    "## To Do"
   ]
  },
  {
   "cell_type": "code",
   "execution_count": 91,
   "metadata": {},
   "outputs": [],
   "source": [
    "# To Do\n",
    "# Organize the Cleaning code into readable groups\n",
    "# Document the cleaning process\n",
    "# Checking datatypes of both sets\n",
    "# Considering renaming any columns (LOCATION, TIME)\n",
    "# Checking for data loss thorughout the cleaning process"
   ]
  },
  {
   "cell_type": "markdown",
   "metadata": {},
   "source": [
    "## Requirements"
   ]
  },
  {
   "cell_type": "code",
   "execution_count": 2,
   "metadata": {},
   "outputs": [],
   "source": [
    "# Importing Dependencies\n",
    "import pandas as pd\n",
    "import os\n",
    "import csv\n",
    "import chardet"
   ]
  },
  {
   "cell_type": "code",
   "execution_count": 5,
   "metadata": {},
   "outputs": [
    {
     "name": "stderr",
     "output_type": "stream",
     "text": [
      "c:\\Users\\daypa\\anaconda3\\lib\\site-packages\\IPython\\core\\interactiveshell.py:3165: DtypeWarning: Columns (4) have mixed types.Specify dtype option on import or set low_memory=False.\n",
      "  has_raised = await self.run_ast_nodes(code_ast.body, cell_name,\n",
      "c:\\Users\\daypa\\anaconda3\\lib\\site-packages\\IPython\\core\\interactiveshell.py:3165: DtypeWarning: Columns (2) have mixed types.Specify dtype option on import or set low_memory=False.\n",
      "  has_raised = await self.run_ast_nodes(code_ast.body, cell_name,\n"
     ]
    }
   ],
   "source": [
    "# The WHO Mortaity Dataset\n",
    "\n",
    "# Combine Mortality rate files into a single dataframe\n",
    "dirLoc = 'Resources' #filepath of the directory\n",
    "Mortality_df = pd.DataFrame()\n",
    "\n",
    "for file in os.scandir(dirLoc):\n",
    "    if \"Morti\" in file.path: # Only append files from the Mortality Datasets\n",
    "        Mortality_df = Mortality_df.append(pd.read_csv(file.path,)) #append the data of the current mortality file being read"
   ]
  },
  {
   "cell_type": "code",
   "execution_count": 6,
   "metadata": {},
   "outputs": [],
   "source": [
    "# Reading in the OECD Meat Consumption dataset\n",
    "OECD_df = pd.read_csv('Resources/OECD_Meat_Consumption.csv')"
   ]
  },
  {
   "cell_type": "markdown",
   "metadata": {},
   "source": [
    "## Data Exploration"
   ]
  },
  {
   "cell_type": "markdown",
   "metadata": {},
   "source": [
    "Summary:\n",
    "* Scope of the datasets (time)\n",
    "* Irrelevant fields\n",
    "* Irrelevant records and null values\n",
    "* Data types\n",
    "* Full Country Name Mapping"
   ]
  },
  {
   "cell_type": "markdown",
   "metadata": {},
   "source": [
    "### Time range of dataset"
   ]
  },
  {
   "cell_type": "code",
   "execution_count": 16,
   "metadata": {},
   "outputs": [
    {
     "name": "stdout",
     "output_type": "stream",
     "text": [
      "The earliest year in the mortality dataset is 2000 and the latest year is 2020\n",
      "The earliest year in the OECD dataset is 2000 and the latest year is 2020\n"
     ]
    }
   ],
   "source": [
    "# Investigating the time the datasets encompass\n",
    "\n",
    "# The Mortaility rate dataset\n",
    "Mortality_max = Mortality_df['Year'].max()\n",
    "Mortality_min = Mortality_df['Year'].min()\n",
    "print(f'The earliest year in the mortality dataset is {Mortality_min} and the latest year is {Mortality_max}')\n",
    "\n",
    "OECD_max = OECD_df['TIME'].max()\n",
    "OECD_min = OECD_df['TIME'].min()\n",
    "print(f'The earliest year in the OECD dataset is {OECD_min} and the latest year is {OECD_max}')\n",
    "\n",
    "# We want to narrow the scope of our records between the year 2000 and 2020\n",
    "Mortality_df = Mortality_df[Mortality_df['Year'] >= 2000]\n",
    "\n",
    "OECD_df = OECD_df[OECD_df['TIME'] >= 2000]\n",
    "OECD_df = OECD_df[OECD_df['TIME'] <= 2020]"
   ]
  },
  {
   "cell_type": "markdown",
   "metadata": {},
   "source": [
    "### Irrelevant Fields"
   ]
  },
  {
   "cell_type": "code",
   "execution_count": 38,
   "metadata": {},
   "outputs": [],
   "source": [
    "# Limiting the field in the mortality dataset to: [\"Country\",\"Year\",\"Cause\",\"Sex\",\"Deaths1\"]\n",
    "Mortality_df = Mortality_df[[\"Country\",\"Year\",\"Cause\",\"Sex\",\"Deaths1\"]]\n",
    "\n",
    "# Limiting the OECD dataset to the fields: ['LOCATION', 'SUBJECT', 'MEASURE','TIME','Value']\n",
    "OECD_df = OECD_df[['LOCATION', 'SUBJECT', 'MEASURE','TIME','Value']]"
   ]
  },
  {
   "cell_type": "markdown",
   "metadata": {},
   "source": [
    "Irrelevant Records"
   ]
  },
  {
   "cell_type": "code",
   "execution_count": 35,
   "metadata": {},
   "outputs": [
    {
     "name": "stdout",
     "output_type": "stream",
     "text": [
      "Country    4039092\n",
      "Year       4039092\n",
      "Cause      4039092\n",
      "Sex        4039092\n",
      "Deaths1    4039092\n",
      "dtype: int64\n"
     ]
    }
   ],
   "source": [
    "# Mortality Dataset\n",
    "# Removing records with value 9\n",
    "Mortality_df[\"Sex\"].value_counts() # There are 20,701 records with the 9 value in the sex field which refers to other\n",
    "\n",
    "# Creating new dataframe wihtout 9 values in the Sex field\n",
    "Mortality_df = Mortality_df[Mortality_df[\"Sex\"] != 9]\n",
    "\n",
    "Mortality_df[\"Sex\"].value_counts() # 9 values removed from the original dataset\n",
    "\n",
    "print(Mortality_df.count()) # There are no null values"
   ]
  },
  {
   "cell_type": "code",
   "execution_count": null,
   "metadata": {},
   "outputs": [
    {
     "data": {
      "text/plain": [
       "LOCATION    3192\n",
       "SUBJECT     3192\n",
       "MEASURE     3192\n",
       "TIME        3192\n",
       "Value       3192\n",
       "dtype: int64"
      ]
     },
     "metadata": {},
     "output_type": "display_data"
    }
   ],
   "source": [
    "# OECD Dataset\n",
    "\n",
    "OECD_df['MEASURE'].unique() # Dataset contains records in two units\n",
    "\n",
    "OECD_df = OECD_df[OECD_df['MEASURE'] != 'THND_TONNE'] # Filtering out values measured in Thousand tonnes\n",
    "\n",
    "OECD_df.count() # No null values present"
   ]
  },
  {
   "cell_type": "markdown",
   "metadata": {},
   "source": [
    "### Data types"
   ]
  },
  {
   "cell_type": "code",
   "execution_count": 36,
   "metadata": {},
   "outputs": [
    {
     "data": {
      "text/plain": [
       "Country    string\n",
       "Year        int64\n",
       "Cause      string\n",
       "Sex         int64\n",
       "Deaths1     int64\n",
       "dtype: object"
      ]
     },
     "execution_count": 36,
     "metadata": {},
     "output_type": "execute_result"
    }
   ],
   "source": [
    "Mortality_df.dtypes # Columns Cause, Sex, and Country dont seem to be the datatype we need them to be\n",
    "\n",
    "# We can explicitly assign the string datatype to the Cause column\n",
    "Mortality_df['Cause'] = Mortality_df['Cause'].astype('string')\n",
    "Mortality_df['Country'] = Mortality_df['Country'].astype('string')\n",
    "\n",
    "Mortality_df.dtypes # The Cause Column is now string"
   ]
  },
  {
   "cell_type": "code",
   "execution_count": 50,
   "metadata": {},
   "outputs": [
    {
     "data": {
      "text/plain": [
       "LOCATION     string\n",
       "SUBJECT      string\n",
       "MEASURE      string\n",
       "TIME          int64\n",
       "Value       float64\n",
       "dtype: object"
      ]
     },
     "execution_count": 50,
     "metadata": {},
     "output_type": "execute_result"
    }
   ],
   "source": [
    "OECD_df.dtypes # LOCATION, SUBJECT, AND MEASURE should be string\n",
    "OECD_type_dict = {'LOCATION':'string', 'SUBJECT':'string', 'MEASURE':'string'}\n",
    "OECD_df = OECD_df.astype(OECD_type_dict)\n",
    "OECD_df.dtypes"
   ]
  },
  {
   "cell_type": "markdown",
   "metadata": {},
   "source": [
    "### Country Name Mapping"
   ]
  },
  {
   "cell_type": "markdown",
   "metadata": {},
   "source": [
    "## WHO Country and Cause of Death Coding\n",
    "The world health organization codes the causes of death and the country of origin using their mapping which is specified in tables in the Mortality dataset documentation.\n",
    "I need to map the value of the codes to our clean dataset"
   ]
  },
  {
   "cell_type": "code",
   "execution_count": 101,
   "metadata": {},
   "outputs": [],
   "source": [
    "# mapping the country name to the dataset using the WHO_Country_Map.csv file\n",
    "# Read up on the .map() documentation in pandas\n",
    "\n",
    "# Reading in the WHO country map as a dictionary\n",
    "\n",
    "\n",
    "Code_To_Country = {}\n",
    "\n",
    "with open('Resources/WHO_Country_Map.csv', mode = 'r') as file:\n",
    "    reader = csv.reader(file)\n",
    "    Code_To_Country = {rows[0] : rows[1] for rows in reader}\n"
   ]
  },
  {
   "cell_type": "code",
   "execution_count": 102,
   "metadata": {},
   "outputs": [
    {
     "name": "stderr",
     "output_type": "stream",
     "text": [
      "<ipython-input-102-947fb4adf249>:6: SettingWithCopyWarning: \n",
      "A value is trying to be set on a copy of a slice from a DataFrame.\n",
      "Try using .loc[row_indexer,col_indexer] = value instead\n",
      "\n",
      "See the caveats in the documentation: https://pandas.pydata.org/pandas-docs/stable/user_guide/indexing.html#returning-a-view-versus-a-copy\n",
      "  df_2000['Country'] = df_2000['Country'].map(Code_To_Country)\n"
     ]
    }
   ],
   "source": [
    "Code_To_Country\n",
    "Code_To_Country.pop('country') # removing the header from the map\n",
    "\n",
    "\n",
    "#apply the Code_To_Country map to the \"Country\" series in df_2000\n",
    "df_2000['Country'] = df_2000['Country'].map(Code_To_Country)"
   ]
  },
  {
   "cell_type": "code",
   "execution_count": 111,
   "metadata": {},
   "outputs": [
    {
     "data": {
      "text/plain": [
       "10       AUS\n",
       "11       AUS\n",
       "12       AUS\n",
       "13       AUS\n",
       "14       AUS\n",
       "        ... \n",
       "12146    GBR\n",
       "12147    GBR\n",
       "12148    GBR\n",
       "12149    GBR\n",
       "12150    GBR\n",
       "Name: LOCATION, Length: 3192, dtype: string"
      ]
     },
     "execution_count": 111,
     "metadata": {},
     "output_type": "execute_result"
    }
   ],
   "source": [
    "OECD_df['LOCATION'].dtypes\n",
    "OECD_df['LOCATION'].astype('string')\n"
   ]
  },
  {
   "cell_type": "code",
   "execution_count": 112,
   "metadata": {},
   "outputs": [
    {
     "data": {
      "text/html": [
       "<div>\n",
       "<style scoped>\n",
       "    .dataframe tbody tr th:only-of-type {\n",
       "        vertical-align: middle;\n",
       "    }\n",
       "\n",
       "    .dataframe tbody tr th {\n",
       "        vertical-align: top;\n",
       "    }\n",
       "\n",
       "    .dataframe thead th {\n",
       "        text-align: right;\n",
       "    }\n",
       "</style>\n",
       "<table border=\"1\" class=\"dataframe\">\n",
       "  <thead>\n",
       "    <tr style=\"text-align: right;\">\n",
       "      <th></th>\n",
       "      <th>ountry</th>\n",
       "      <th>Alpha-3 code</th>\n",
       "    </tr>\n",
       "  </thead>\n",
       "  <tbody>\n",
       "    <tr>\n",
       "      <th>0</th>\n",
       "      <td>Afghanistan</td>\n",
       "      <td>AFG</td>\n",
       "    </tr>\n",
       "    <tr>\n",
       "      <th>1</th>\n",
       "      <td>Albania</td>\n",
       "      <td>ALB</td>\n",
       "    </tr>\n",
       "    <tr>\n",
       "      <th>2</th>\n",
       "      <td>Algeria</td>\n",
       "      <td>DZA</td>\n",
       "    </tr>\n",
       "    <tr>\n",
       "      <th>3</th>\n",
       "      <td>American Samoa</td>\n",
       "      <td>ASM</td>\n",
       "    </tr>\n",
       "    <tr>\n",
       "      <th>4</th>\n",
       "      <td>Andorra</td>\n",
       "      <td>AND</td>\n",
       "    </tr>\n",
       "  </tbody>\n",
       "</table>\n",
       "</div>"
      ],
      "text/plain": [
       "           ountry Alpha-3 code\n",
       "0     Afghanistan          AFG\n",
       "1         Albania          ALB\n",
       "2         Algeria          DZA\n",
       "3  American Samoa          ASM\n",
       "4         Andorra          AND"
      ]
     },
     "execution_count": 112,
     "metadata": {},
     "output_type": "execute_result"
    }
   ],
   "source": [
    "# Reading in the country code map\n",
    "Codes_df = pd.read_csv('Resources/ISO_Alpha3_Country_Codes.csv')\n",
    "Codes_df.head()"
   ]
  },
  {
   "cell_type": "code",
   "execution_count": 113,
   "metadata": {},
   "outputs": [
    {
     "name": "stdout",
     "output_type": "stream",
     "text": [
      "{'encoding': 'Windows-1252', 'confidence': 0.73, 'language': ''}\n"
     ]
    }
   ],
   "source": [
    "\n",
    "ISOMap_File = 'Resources/ISO_Alpha3_Country_Codes.csv'\n",
    "Alpha3_To_Country = {}\n",
    "\n",
    "with open(ISOMap_File, 'rb') as chardetect:\n",
    "    print(chardet.detect(chardetect.read()))  #Determine the encoding used in the file with chardet\n",
    "\n",
    "\n",
    "with open('Resources/ISO_Alpha3_Country_Codes.csv', 'r', encoding = 'cp1252') as file:\n",
    "    reader = csv.reader(file)\n",
    "    Alpha3_To_Country = {row[1] : row[0] for row in reader } # read in the file using cp1252 encoding\n",
    "\n",
    "    "
   ]
  },
  {
   "cell_type": "code",
   "execution_count": 114,
   "metadata": {},
   "outputs": [
    {
     "data": {
      "text/plain": [
       "'ountry'"
      ]
     },
     "execution_count": 114,
     "metadata": {},
     "output_type": "execute_result"
    }
   ],
   "source": [
    "Alpha3_To_Country.pop('Alpha-3 code') # remove the header from the dictionary"
   ]
  },
  {
   "cell_type": "code",
   "execution_count": 115,
   "metadata": {},
   "outputs": [
    {
     "name": "stdout",
     "output_type": "stream",
     "text": [
      "38\n"
     ]
    }
   ],
   "source": [
    "#Swap out the three letter codeswith the country name\n",
    "OECD_df.head()\n",
    "print(len(OECD_df['LOCATION'].unique()))"
   ]
  },
  {
   "cell_type": "code",
   "execution_count": 116,
   "metadata": {},
   "outputs": [],
   "source": [
    "OECD_df['LOCATION'] = OECD_df['LOCATION'].map(Alpha3_To_Country)\n",
    "OECD_df.rename(columns = {'LOCATION': 'Country','TIME':'Year'}, inplace=True)"
   ]
  },
  {
   "cell_type": "code",
   "execution_count": 117,
   "metadata": {},
   "outputs": [
    {
     "data": {
      "text/plain": [
       "36"
      ]
     },
     "execution_count": 117,
     "metadata": {},
     "output_type": "execute_result"
    }
   ],
   "source": [
    "len(OECD_df['Country'].unique())"
   ]
  },
  {
   "cell_type": "code",
   "execution_count": 121,
   "metadata": {},
   "outputs": [],
   "source": [
    "# Joining the OECD and WHO Dataset\n",
    "OECD_df #3192 records\n",
    "df_2000 #4039092 records\n",
    "\n",
    "lethalMeat_df = df_2000.merge(right=OECD_df , how='inner' , on= ['Country','Year'])"
   ]
  },
  {
   "cell_type": "code",
   "execution_count": 122,
   "metadata": {},
   "outputs": [
    {
     "data": {
      "text/html": [
       "<div>\n",
       "<style scoped>\n",
       "    .dataframe tbody tr th:only-of-type {\n",
       "        vertical-align: middle;\n",
       "    }\n",
       "\n",
       "    .dataframe tbody tr th {\n",
       "        vertical-align: top;\n",
       "    }\n",
       "\n",
       "    .dataframe thead th {\n",
       "        text-align: right;\n",
       "    }\n",
       "</style>\n",
       "<table border=\"1\" class=\"dataframe\">\n",
       "  <thead>\n",
       "    <tr style=\"text-align: right;\">\n",
       "      <th></th>\n",
       "      <th>Country</th>\n",
       "      <th>Year</th>\n",
       "      <th>Cause</th>\n",
       "      <th>Sex</th>\n",
       "      <th>Deaths1</th>\n",
       "      <th>INDICATOR</th>\n",
       "      <th>SUBJECT</th>\n",
       "      <th>MEASURE</th>\n",
       "      <th>Value</th>\n",
       "    </tr>\n",
       "  </thead>\n",
       "  <tbody>\n",
       "    <tr>\n",
       "      <th>0</th>\n",
       "      <td>Egypt</td>\n",
       "      <td>2000</td>\n",
       "      <td>A00</td>\n",
       "      <td>1</td>\n",
       "      <td>2</td>\n",
       "      <td>MEATCONSUMP</td>\n",
       "      <td>BEEF</td>\n",
       "      <td>KG_CAP</td>\n",
       "      <td>7.700</td>\n",
       "    </tr>\n",
       "    <tr>\n",
       "      <th>1</th>\n",
       "      <td>Egypt</td>\n",
       "      <td>2000</td>\n",
       "      <td>A00</td>\n",
       "      <td>1</td>\n",
       "      <td>2</td>\n",
       "      <td>MEATCONSUMP</td>\n",
       "      <td>PIG</td>\n",
       "      <td>KG_CAP</td>\n",
       "      <td>0.035</td>\n",
       "    </tr>\n",
       "    <tr>\n",
       "      <th>2</th>\n",
       "      <td>Egypt</td>\n",
       "      <td>2000</td>\n",
       "      <td>A00</td>\n",
       "      <td>1</td>\n",
       "      <td>2</td>\n",
       "      <td>MEATCONSUMP</td>\n",
       "      <td>POULTRY</td>\n",
       "      <td>KG_CAP</td>\n",
       "      <td>7.494</td>\n",
       "    </tr>\n",
       "    <tr>\n",
       "      <th>3</th>\n",
       "      <td>Egypt</td>\n",
       "      <td>2000</td>\n",
       "      <td>A00</td>\n",
       "      <td>1</td>\n",
       "      <td>2</td>\n",
       "      <td>MEATCONSUMP</td>\n",
       "      <td>SHEEP</td>\n",
       "      <td>KG_CAP</td>\n",
       "      <td>1.586</td>\n",
       "    </tr>\n",
       "    <tr>\n",
       "      <th>4</th>\n",
       "      <td>Egypt</td>\n",
       "      <td>2000</td>\n",
       "      <td>A00</td>\n",
       "      <td>2</td>\n",
       "      <td>1</td>\n",
       "      <td>MEATCONSUMP</td>\n",
       "      <td>BEEF</td>\n",
       "      <td>KG_CAP</td>\n",
       "      <td>7.700</td>\n",
       "    </tr>\n",
       "  </tbody>\n",
       "</table>\n",
       "</div>"
      ],
      "text/plain": [
       "  Country  Year Cause  Sex  Deaths1    INDICATOR  SUBJECT MEASURE  Value\n",
       "0   Egypt  2000   A00    1        2  MEATCONSUMP     BEEF  KG_CAP  7.700\n",
       "1   Egypt  2000   A00    1        2  MEATCONSUMP      PIG  KG_CAP  0.035\n",
       "2   Egypt  2000   A00    1        2  MEATCONSUMP  POULTRY  KG_CAP  7.494\n",
       "3   Egypt  2000   A00    1        2  MEATCONSUMP    SHEEP  KG_CAP  1.586\n",
       "4   Egypt  2000   A00    2        1  MEATCONSUMP     BEEF  KG_CAP  7.700"
      ]
     },
     "execution_count": 122,
     "metadata": {},
     "output_type": "execute_result"
    }
   ],
   "source": [
    "lethalMeat_df.head()"
   ]
  },
  {
   "cell_type": "code",
   "execution_count": 123,
   "metadata": {},
   "outputs": [
    {
     "data": {
      "text/plain": [
       "5110360"
      ]
     },
     "execution_count": 123,
     "metadata": {},
     "output_type": "execute_result"
    }
   ],
   "source": [
    "# replace NaN with values we can work with 'Missing'\n",
    "len(lethalMeat_df)"
   ]
  }
 ],
 "metadata": {
  "interpreter": {
   "hash": "0ab6cfb7c77f6868107e9499919e4b718bd5f4d06fdb788e771155d72904cd4c"
  },
  "kernelspec": {
   "display_name": "Python 3.8.8 ('base')",
   "language": "python",
   "name": "python3"
  },
  "language_info": {
   "codemirror_mode": {
    "name": "ipython",
    "version": 3
   },
   "file_extension": ".py",
   "mimetype": "text/x-python",
   "name": "python",
   "nbconvert_exporter": "python",
   "pygments_lexer": "ipython3",
   "version": "3.8.8"
  },
  "orig_nbformat": 4
 },
 "nbformat": 4,
 "nbformat_minor": 2
}
