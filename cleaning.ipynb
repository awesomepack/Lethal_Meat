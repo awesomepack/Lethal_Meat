{
 "cells": [
  {
   "cell_type": "markdown",
   "metadata": {},
   "source": [
    "## To Do"
   ]
  },
  {
   "cell_type": "code",
   "execution_count": 16,
   "metadata": {},
   "outputs": [],
   "source": [
    "# To Do\n",
    "# Organize the Cleaning code into readable groups\n",
    "# Document the cleaning process\n",
    "# Checking datatypes of both sets\n",
    "# Considering renaming any columns (LOCATION, TIME)\n",
    "# Checking for data loss thorughout the cleaning process"
   ]
  },
  {
   "cell_type": "markdown",
   "metadata": {},
   "source": [
    "## Requirements"
   ]
  },
  {
   "cell_type": "code",
   "execution_count": 17,
   "metadata": {},
   "outputs": [],
   "source": [
    "# Importing Dependencies\n",
    "import pandas as pd\n",
    "import os\n",
    "import csv\n",
    "import chardet"
   ]
  },
  {
   "cell_type": "code",
   "execution_count": 18,
   "metadata": {},
   "outputs": [
    {
     "name": "stderr",
     "output_type": "stream",
     "text": [
      "c:\\Users\\daypa\\anaconda3\\lib\\site-packages\\IPython\\core\\interactiveshell.py:3165: DtypeWarning: Columns (4) have mixed types.Specify dtype option on import or set low_memory=False.\n",
      "  has_raised = await self.run_ast_nodes(code_ast.body, cell_name,\n",
      "c:\\Users\\daypa\\anaconda3\\lib\\site-packages\\IPython\\core\\interactiveshell.py:3165: DtypeWarning: Columns (2) have mixed types.Specify dtype option on import or set low_memory=False.\n",
      "  has_raised = await self.run_ast_nodes(code_ast.body, cell_name,\n"
     ]
    }
   ],
   "source": [
    "# The WHO Mortaity Dataset\n",
    "\n",
    "# Combine Mortality rate files into a single dataframe\n",
    "dirLoc = 'Resources' #filepath of the directory\n",
    "Mortality_df = pd.DataFrame()\n",
    "\n",
    "for file in os.scandir(dirLoc):\n",
    "    if \"Morti\" in file.path: # Only append files from the Mortality Datasets\n",
    "        Mortality_df = Mortality_df.append(pd.read_csv(file.path,)) #append the data of the current mortality file being read"
   ]
  },
  {
   "cell_type": "code",
   "execution_count": 19,
   "metadata": {},
   "outputs": [],
   "source": [
    "# Reading in the OECD Meat Consumption dataset\n",
    "OECD_df = pd.read_csv('Resources/OECD_Meat_Consumption.csv')"
   ]
  },
  {
   "cell_type": "markdown",
   "metadata": {},
   "source": [
    "## Data Exploration"
   ]
  },
  {
   "cell_type": "markdown",
   "metadata": {},
   "source": [
    "Summary:\n",
    "* Scope of the datasets (time)\n",
    "* Irrelevant fields\n",
    "* Irrelevant records and null values\n",
    "* Data types\n",
    "* Column Renaming\n",
    "* Full Country Name Mapping"
   ]
  },
  {
   "cell_type": "markdown",
   "metadata": {},
   "source": [
    "### Time range of dataset"
   ]
  },
  {
   "cell_type": "code",
   "execution_count": 20,
   "metadata": {},
   "outputs": [
    {
     "name": "stdout",
     "output_type": "stream",
     "text": [
      "The earliest year in the mortality dataset is 1988 and the latest year is 2020\n",
      "The earliest year in the OECD dataset is 1990 and the latest year is 2029\n"
     ]
    }
   ],
   "source": [
    "# Investigating the time the datasets encompass\n",
    "\n",
    "# The Mortaility rate dataset\n",
    "Mortality_max = Mortality_df['Year'].max()\n",
    "Mortality_min = Mortality_df['Year'].min()\n",
    "print(f'The earliest year in the mortality dataset is {Mortality_min} and the latest year is {Mortality_max}')\n",
    "\n",
    "OECD_max = OECD_df['TIME'].max()\n",
    "OECD_min = OECD_df['TIME'].min()\n",
    "print(f'The earliest year in the OECD dataset is {OECD_min} and the latest year is {OECD_max}')\n",
    "\n",
    "# We want to narrow the scope of our records between the year 2000 and 2020\n",
    "Mortality_df = Mortality_df[Mortality_df['Year'] >= 2000]\n",
    "\n",
    "OECD_df = OECD_df[OECD_df['TIME'] >= 2000]\n",
    "OECD_df = OECD_df[OECD_df['TIME'] <= 2020]"
   ]
  },
  {
   "cell_type": "markdown",
   "metadata": {},
   "source": [
    "### Irrelevant Fields"
   ]
  },
  {
   "cell_type": "code",
   "execution_count": 21,
   "metadata": {},
   "outputs": [],
   "source": [
    "# Limiting the field in the mortality dataset to: [\"Country\",\"Year\",\"Cause\",\"Sex\",\"Deaths1\"]\n",
    "Mortality_df = Mortality_df[[\"Country\",\"Year\",\"Sex\",\"Deaths1\"]]\n",
    "\n",
    "# Limiting the OECD dataset to the fields: ['LOCATION', 'SUBJECT', 'MEASURE','TIME','Value']\n",
    "OECD_df = OECD_df[['LOCATION', 'SUBJECT', 'MEASURE','TIME','Value']]"
   ]
  },
  {
   "cell_type": "markdown",
   "metadata": {},
   "source": [
    "Irrelevant Records"
   ]
  },
  {
   "cell_type": "code",
   "execution_count": 22,
   "metadata": {},
   "outputs": [
    {
     "name": "stdout",
     "output_type": "stream",
     "text": [
      "Country    4039092\n",
      "Year       4039092\n",
      "Sex        4039092\n",
      "Deaths1    4039092\n",
      "dtype: int64\n"
     ]
    }
   ],
   "source": [
    "# Mortality Dataset\n",
    "# Removing records with value 9\n",
    "Mortality_df[\"Sex\"].value_counts() # There are 20,701 records with the 9 value in the sex field which refers to other\n",
    "\n",
    "# Creating new dataframe wihtout 9 values in the Sex field\n",
    "Mortality_df = Mortality_df[Mortality_df[\"Sex\"] != 9]\n",
    "\n",
    "Mortality_df[\"Sex\"].value_counts() # 9 values removed from the original dataset\n",
    "\n",
    "code_to_gender = {1: 'M' , 2: 'F'}\n",
    "\n",
    "Mortality_df['Sex'] = Mortality_df['Sex'].map(code_to_gender)\n",
    "\n",
    "\n",
    "\n",
    "print(Mortality_df.count()) # There are no null values"
   ]
  },
  {
   "cell_type": "code",
   "execution_count": 23,
   "metadata": {},
   "outputs": [
    {
     "data": {
      "text/plain": [
       "LOCATION    3192\n",
       "SUBJECT     3192\n",
       "MEASURE     3192\n",
       "TIME        3192\n",
       "Value       3192\n",
       "dtype: int64"
      ]
     },
     "execution_count": 23,
     "metadata": {},
     "output_type": "execute_result"
    }
   ],
   "source": [
    "# OECD Dataset\n",
    "\n",
    "OECD_df['MEASURE'].unique() # Dataset contains records in two units\n",
    "\n",
    "OECD_df = OECD_df[OECD_df['MEASURE'] != 'THND_TONNE'] # Filtering out values measured in Thousand tonnes\n",
    "\n",
    "OECD_df.count() # No null values present"
   ]
  },
  {
   "cell_type": "code",
   "execution_count": 24,
   "metadata": {},
   "outputs": [],
   "source": [
    "#Mortality_df['Cause'] = 'Deaths'"
   ]
  },
  {
   "cell_type": "markdown",
   "metadata": {},
   "source": [
    "### Data types"
   ]
  },
  {
   "cell_type": "code",
   "execution_count": 25,
   "metadata": {},
   "outputs": [
    {
     "data": {
      "text/plain": [
       "Country    string\n",
       "Year        int64\n",
       "Sex        string\n",
       "Deaths1     int64\n",
       "dtype: object"
      ]
     },
     "execution_count": 25,
     "metadata": {},
     "output_type": "execute_result"
    }
   ],
   "source": [
    "Mortality_df.dtypes # Columns Cause, Sex, and Country dont seem to be the datatype we need them to be\n",
    "\n",
    "# We can explicitly assign the string datatype to the Cause column\n",
    "Mortality_type_Dict = {'Country': 'string' , 'Sex':'string'}\n",
    "Mortality_df = Mortality_df.astype(Mortality_type_Dict)\n",
    "\n",
    "\n",
    "Mortality_df.dtypes # The Cause Column is now string"
   ]
  },
  {
   "cell_type": "code",
   "execution_count": 26,
   "metadata": {},
   "outputs": [
    {
     "data": {
      "text/plain": [
       "LOCATION     string\n",
       "SUBJECT      string\n",
       "MEASURE      string\n",
       "TIME          int64\n",
       "Value       float64\n",
       "dtype: object"
      ]
     },
     "execution_count": 26,
     "metadata": {},
     "output_type": "execute_result"
    }
   ],
   "source": [
    "OECD_df.dtypes # LOCATION, SUBJECT, AND MEASURE should be string\n",
    "OECD_type_dict = {'LOCATION':'string', 'SUBJECT':'string', 'MEASURE':'string'}\n",
    "OECD_df = OECD_df.astype(OECD_type_dict)\n",
    "OECD_df.dtypes"
   ]
  },
  {
   "cell_type": "markdown",
   "metadata": {},
   "source": [
    "### Renaming Columns in OECD"
   ]
  },
  {
   "cell_type": "code",
   "execution_count": 27,
   "metadata": {},
   "outputs": [],
   "source": [
    "OECD_df.rename(columns = {'LOCATION': 'Country','TIME':'Year'}, inplace=True)"
   ]
  },
  {
   "cell_type": "markdown",
   "metadata": {},
   "source": [
    "### Country Name Mapping"
   ]
  },
  {
   "cell_type": "code",
   "execution_count": 28,
   "metadata": {},
   "outputs": [],
   "source": [
    "# mapping the country name to Mortality_df using the WHO_Country_Map.csv file\n",
    "# Reading in the WHO country map as a dictionary\n",
    "\n",
    "WHO_Code_To_Country = {}\n",
    "\n",
    "with open('Resources/WHO_Country_Map.csv', mode = 'r') as file:\n",
    "    reader = csv.reader(file)\n",
    "    WHO_Code_To_Country = {rows[0] : rows[1] for rows in reader}\n",
    "\n",
    "\n",
    "WHO_Code_To_Country.pop('country') # removing the header from the dictionary\n",
    "\n",
    "#apply the WHO_Code_To_Country map to the \"Country\" series in Mortality_df\n",
    "Mortality_df['Country'] = Mortality_df['Country'].map(WHO_Code_To_Country)"
   ]
  },
  {
   "cell_type": "code",
   "execution_count": 29,
   "metadata": {},
   "outputs": [
    {
     "name": "stdout",
     "output_type": "stream",
     "text": [
      "{'encoding': 'Windows-1252', 'confidence': 0.73, 'language': ''}\n"
     ]
    }
   ],
   "source": [
    "# mapping 3 character country code to full country name\n",
    "ISOMap_File = 'Resources/ISO_Alpha3_Country_Codes.csv'\n",
    "Alpha3_To_Country = {}\n",
    "\n",
    "# Unknown encoiding, use chardetect to find correct encoding to use\n",
    "with open(ISOMap_File, 'rb') as chardetect:\n",
    "    print(chardet.detect(chardetect.read()))  #Determine the encoding used in the file with chardet\n",
    "\n",
    "\n",
    "with open('Resources/ISO_Alpha3_Country_Codes.csv', 'r', encoding = 'cp1252') as file:\n",
    "    reader = csv.reader(file)\n",
    "    Alpha3_To_Country = {row[1] : row[0] for row in reader } # read in the file using cp1252 encoding\n",
    "\n",
    "Alpha3_To_Country.pop('Alpha-3 code') # remove the header from the dictionary\n",
    "\n",
    "#Swap out the three letter codes with the country name\n",
    "OECD_df['Country'] = OECD_df['Country'].map(Alpha3_To_Country)\n",
    "\n"
   ]
  },
  {
   "cell_type": "markdown",
   "metadata": {},
   "source": [
    "### Dimensionality reduction\n"
   ]
  },
  {
   "cell_type": "code",
   "execution_count": 33,
   "metadata": {},
   "outputs": [
    {
     "data": {
      "text/html": [
       "<div>\n",
       "<style scoped>\n",
       "    .dataframe tbody tr th:only-of-type {\n",
       "        vertical-align: middle;\n",
       "    }\n",
       "\n",
       "    .dataframe tbody tr th {\n",
       "        vertical-align: top;\n",
       "    }\n",
       "\n",
       "    .dataframe thead th {\n",
       "        text-align: right;\n",
       "    }\n",
       "</style>\n",
       "<table border=\"1\" class=\"dataframe\">\n",
       "  <thead>\n",
       "    <tr style=\"text-align: right;\">\n",
       "      <th></th>\n",
       "      <th>Country</th>\n",
       "      <th>Year</th>\n",
       "      <th>Deaths1</th>\n",
       "    </tr>\n",
       "  </thead>\n",
       "  <tbody>\n",
       "    <tr>\n",
       "      <th>0</th>\n",
       "      <td>Andorra</td>\n",
       "      <td>2011</td>\n",
       "      <td>794</td>\n",
       "    </tr>\n",
       "    <tr>\n",
       "      <th>1</th>\n",
       "      <td>Andorra</td>\n",
       "      <td>2012</td>\n",
       "      <td>880</td>\n",
       "    </tr>\n",
       "    <tr>\n",
       "      <th>2</th>\n",
       "      <td>Andorra</td>\n",
       "      <td>2013</td>\n",
       "      <td>698</td>\n",
       "    </tr>\n",
       "    <tr>\n",
       "      <th>3</th>\n",
       "      <td>Andorra</td>\n",
       "      <td>2014</td>\n",
       "      <td>797</td>\n",
       "    </tr>\n",
       "    <tr>\n",
       "      <th>4</th>\n",
       "      <td>Andorra</td>\n",
       "      <td>2015</td>\n",
       "      <td>830</td>\n",
       "    </tr>\n",
       "  </tbody>\n",
       "</table>\n",
       "</div>"
      ],
      "text/plain": [
       "   Country  Year  Deaths1\n",
       "0  Andorra  2011      794\n",
       "1  Andorra  2012      880\n",
       "2  Andorra  2013      698\n",
       "3  Andorra  2014      797\n",
       "4  Andorra  2015      830"
      ]
     },
     "execution_count": 33,
     "metadata": {},
     "output_type": "execute_result"
    }
   ],
   "source": [
    "# Consolidating causes of death as one\n",
    "reduced_mortality = Mortality_df.groupby(['Country' , 'Year']).sum()\n",
    "\n",
    "reduced_mortality = reduced_mortality.reset_index(level = ['Country', 'Year'] )\n",
    "reduced_mortality.head()"
   ]
  },
  {
   "cell_type": "code",
   "execution_count": 34,
   "metadata": {},
   "outputs": [
    {
     "data": {
      "text/html": [
       "<div>\n",
       "<style scoped>\n",
       "    .dataframe tbody tr th:only-of-type {\n",
       "        vertical-align: middle;\n",
       "    }\n",
       "\n",
       "    .dataframe tbody tr th {\n",
       "        vertical-align: top;\n",
       "    }\n",
       "\n",
       "    .dataframe thead th {\n",
       "        text-align: right;\n",
       "    }\n",
       "</style>\n",
       "<table border=\"1\" class=\"dataframe\">\n",
       "  <thead>\n",
       "    <tr style=\"text-align: right;\">\n",
       "      <th></th>\n",
       "      <th>Country</th>\n",
       "      <th>Year</th>\n",
       "      <th>MEASURE</th>\n",
       "      <th>Value</th>\n",
       "    </tr>\n",
       "  </thead>\n",
       "  <tbody>\n",
       "    <tr>\n",
       "      <th>0</th>\n",
       "      <td>Argentina</td>\n",
       "      <td>2000</td>\n",
       "      <td>KG_CAP</td>\n",
       "      <td>75.585</td>\n",
       "    </tr>\n",
       "    <tr>\n",
       "      <th>1</th>\n",
       "      <td>Argentina</td>\n",
       "      <td>2001</td>\n",
       "      <td>KG_CAP</td>\n",
       "      <td>72.192</td>\n",
       "    </tr>\n",
       "    <tr>\n",
       "      <th>2</th>\n",
       "      <td>Argentina</td>\n",
       "      <td>2002</td>\n",
       "      <td>KG_CAP</td>\n",
       "      <td>61.737</td>\n",
       "    </tr>\n",
       "    <tr>\n",
       "      <th>3</th>\n",
       "      <td>Argentina</td>\n",
       "      <td>2003</td>\n",
       "      <td>KG_CAP</td>\n",
       "      <td>63.245</td>\n",
       "    </tr>\n",
       "    <tr>\n",
       "      <th>4</th>\n",
       "      <td>Argentina</td>\n",
       "      <td>2004</td>\n",
       "      <td>KG_CAP</td>\n",
       "      <td>68.114</td>\n",
       "    </tr>\n",
       "  </tbody>\n",
       "</table>\n",
       "</div>"
      ],
      "text/plain": [
       "     Country  Year MEASURE   Value\n",
       "0  Argentina  2000  KG_CAP  75.585\n",
       "1  Argentina  2001  KG_CAP  72.192\n",
       "2  Argentina  2002  KG_CAP  61.737\n",
       "3  Argentina  2003  KG_CAP  63.245\n",
       "4  Argentina  2004  KG_CAP  68.114"
      ]
     },
     "execution_count": 34,
     "metadata": {},
     "output_type": "execute_result"
    }
   ],
   "source": [
    "# Consolidating value by SUBJECT\n",
    "reduced_OECD = OECD_df.groupby(['Country' , 'Year','MEASURE']).sum()\n",
    "\n",
    "reduced_OECD = reduced_OECD.reset_index(level = ['Country','Year','MEASURE'] )\n",
    "\n",
    "reduced_OECD.head()\n"
   ]
  },
  {
   "cell_type": "markdown",
   "metadata": {},
   "source": [
    "### Merging the datasets"
   ]
  },
  {
   "cell_type": "code",
   "execution_count": 35,
   "metadata": {},
   "outputs": [],
   "source": [
    "# merging the OECD and WHO Dataset\n",
    "reduced_OECD #3192 records\n",
    "reduced_mortality #4039092 records\n",
    "\n",
    "lethalMeat_df = reduced_mortality.merge(right=reduced_OECD , how='inner' , on= ['Country','Year'])"
   ]
  },
  {
   "cell_type": "code",
   "execution_count": 36,
   "metadata": {},
   "outputs": [
    {
     "data": {
      "text/plain": [
       "386"
      ]
     },
     "execution_count": 36,
     "metadata": {},
     "output_type": "execute_result"
    }
   ],
   "source": [
    "# replace NaN with values we can work with 'Missing'\n",
    "len(lethalMeat_df)"
   ]
  },
  {
   "cell_type": "code",
   "execution_count": 37,
   "metadata": {},
   "outputs": [],
   "source": [
    "# Writing the dataset as a CSV\n",
    "lethalMeat_df.to_csv('Resources/lethal_meat.csv')"
   ]
  },
  {
   "cell_type": "code",
   "execution_count": 38,
   "metadata": {},
   "outputs": [
    {
     "data": {
      "text/html": [
       "<div>\n",
       "<style scoped>\n",
       "    .dataframe tbody tr th:only-of-type {\n",
       "        vertical-align: middle;\n",
       "    }\n",
       "\n",
       "    .dataframe tbody tr th {\n",
       "        vertical-align: top;\n",
       "    }\n",
       "\n",
       "    .dataframe thead th {\n",
       "        text-align: right;\n",
       "    }\n",
       "</style>\n",
       "<table border=\"1\" class=\"dataframe\">\n",
       "  <thead>\n",
       "    <tr style=\"text-align: right;\">\n",
       "      <th></th>\n",
       "      <th>Country</th>\n",
       "      <th>Year</th>\n",
       "      <th>Deaths1</th>\n",
       "      <th>MEASURE</th>\n",
       "      <th>Value</th>\n",
       "    </tr>\n",
       "  </thead>\n",
       "  <tbody>\n",
       "    <tr>\n",
       "      <th>0</th>\n",
       "      <td>Argentina</td>\n",
       "      <td>2000</td>\n",
       "      <td>554178</td>\n",
       "      <td>KG_CAP</td>\n",
       "      <td>75.585</td>\n",
       "    </tr>\n",
       "    <tr>\n",
       "      <th>1</th>\n",
       "      <td>Argentina</td>\n",
       "      <td>2001</td>\n",
       "      <td>571412</td>\n",
       "      <td>KG_CAP</td>\n",
       "      <td>72.192</td>\n",
       "    </tr>\n",
       "    <tr>\n",
       "      <th>2</th>\n",
       "      <td>Argentina</td>\n",
       "      <td>2002</td>\n",
       "      <td>581740</td>\n",
       "      <td>KG_CAP</td>\n",
       "      <td>61.737</td>\n",
       "    </tr>\n",
       "    <tr>\n",
       "      <th>3</th>\n",
       "      <td>Argentina</td>\n",
       "      <td>2003</td>\n",
       "      <td>603266</td>\n",
       "      <td>KG_CAP</td>\n",
       "      <td>63.245</td>\n",
       "    </tr>\n",
       "    <tr>\n",
       "      <th>4</th>\n",
       "      <td>Argentina</td>\n",
       "      <td>2004</td>\n",
       "      <td>587300</td>\n",
       "      <td>KG_CAP</td>\n",
       "      <td>68.114</td>\n",
       "    </tr>\n",
       "  </tbody>\n",
       "</table>\n",
       "</div>"
      ],
      "text/plain": [
       "     Country  Year  Deaths1 MEASURE   Value\n",
       "0  Argentina  2000   554178  KG_CAP  75.585\n",
       "1  Argentina  2001   571412  KG_CAP  72.192\n",
       "2  Argentina  2002   581740  KG_CAP  61.737\n",
       "3  Argentina  2003   603266  KG_CAP  63.245\n",
       "4  Argentina  2004   587300  KG_CAP  68.114"
      ]
     },
     "execution_count": 38,
     "metadata": {},
     "output_type": "execute_result"
    }
   ],
   "source": [
    "lethalMeat_df.head()"
   ]
  },
  {
   "cell_type": "code",
   "execution_count": null,
   "metadata": {},
   "outputs": [],
   "source": []
  }
 ],
 "metadata": {
  "interpreter": {
   "hash": "0ab6cfb7c77f6868107e9499919e4b718bd5f4d06fdb788e771155d72904cd4c"
  },
  "kernelspec": {
   "display_name": "Python 3.8.8 ('base')",
   "language": "python",
   "name": "python3"
  },
  "language_info": {
   "codemirror_mode": {
    "name": "ipython",
    "version": 3
   },
   "file_extension": ".py",
   "mimetype": "text/x-python",
   "name": "python",
   "nbconvert_exporter": "python",
   "pygments_lexer": "ipython3",
   "version": "3.8.8"
  },
  "orig_nbformat": 4
 },
 "nbformat": 4,
 "nbformat_minor": 2
}
