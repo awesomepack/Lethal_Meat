{
 "cells": [
  {
   "cell_type": "code",
   "execution_count": 1,
   "metadata": {},
   "outputs": [],
   "source": [
    "# To Do\n",
    "# Succesfully open and read one of the data files\n",
    "# Inspect the columns and their data types\n",
    "#Append the remaining datasets together\n",
    "# Remove any columns and records that will not suit the investigation\n",
    "# Write code that creates the table for the data\n",
    "# Upload the data to the table"
   ]
  },
  {
   "cell_type": "code",
   "execution_count": 2,
   "metadata": {},
   "outputs": [],
   "source": [
    "# Importing Dependencies\n",
    "import pandas as pd\n",
    "import os"
   ]
  },
  {
   "cell_type": "markdown",
   "metadata": {},
   "source": [
    "### Cleaning the WHO Mortality Dataset\n",
    "* Contains records from 1988 to 2020 on causes of death\n",
    "* Some records in the \"Sex\" column are unspecified, coded as a 9. For our purposes we will remove these records\n",
    "* "
   ]
  },
  {
   "cell_type": "code",
   "execution_count": 3,
   "metadata": {},
   "outputs": [
    {
     "name": "stderr",
     "output_type": "stream",
     "text": [
      "C:\\Users\\daypa\\anaconda3\\lib\\site-packages\\IPython\\core\\interactiveshell.py:3165: DtypeWarning: Columns (4) have mixed types.Specify dtype option on import or set low_memory=False.\n",
      "  has_raised = await self.run_ast_nodes(code_ast.body, cell_name,\n",
      "C:\\Users\\daypa\\anaconda3\\lib\\site-packages\\IPython\\core\\interactiveshell.py:3165: DtypeWarning: Columns (2) have mixed types.Specify dtype option on import or set low_memory=False.\n",
      "  has_raised = await self.run_ast_nodes(code_ast.body, cell_name,\n"
     ]
    }
   ],
   "source": [
    "\n",
    "# Cycle through the different parts of the Morticd and combine them into a single dataframe\n",
    "dirLoc = 'Resources' #filepath of the directory\n",
    "df = pd.DataFrame()\n",
    "\n",
    "for file in os.scandir(dirLoc):\n",
    "    if \"Morti\" in file.path: # Only append files from the Mortality Datasets\n",
    "        df = df.append(pd.read_csv(file.path,))\n",
    "\n",
    "        \n",
    "        "
   ]
  },
  {
   "cell_type": "code",
   "execution_count": 27,
   "metadata": {},
   "outputs": [
    {
     "data": {
      "text/plain": [
       "1    2358126\n",
       "2    2127394\n",
       "Name: Sex, dtype: int64"
      ]
     },
     "execution_count": 27,
     "metadata": {},
     "output_type": "execute_result"
    }
   ],
   "source": [
    "# Removing records with value 9\n",
    "df[\"Sex\"].value_counts() # There are 20,701 records with the 9 value\n",
    "\n",
    "# Creating new dataframe wihtout 9 values in the Sex field\n",
    "df_Removed9 = df[df[\"Sex\"] != 9]\n",
    "\n",
    "df_Removed9[\"Sex\"].value_counts() # 9 values removed from the original dataset"
   ]
  },
  {
   "cell_type": "code",
   "execution_count": 14,
   "metadata": {},
   "outputs": [
    {
     "data": {
      "text/plain": [
       "4506221"
      ]
     },
     "execution_count": 14,
     "metadata": {},
     "output_type": "execute_result"
    }
   ],
   "source": [
    "len(df)"
   ]
  },
  {
   "cell_type": "code",
   "execution_count": 5,
   "metadata": {},
   "outputs": [
    {
     "name": "stdout",
     "output_type": "stream",
     "text": [
      "1988 2020\n"
     ]
    }
   ],
   "source": [
    "minYear = min(df['Year'])\n",
    "maxYear = max(df['Year'])\n",
    "print(minYear , maxYear)\n",
    "# Observing the Scope of the Mortality Dataset  (1988 - 2020)\n",
    "# Scope of the Meat Consumption ddDataset is 1990 - 2029\n",
    "# We can limit the size of the datsets within the years 2000 and 2020\n",
    "# Need to consider ways of improving write speed of Dataframe to PSQL database\n",
    "# One option is to split the 2000 - 2020 datset by decade and upload that.\n",
    "# Inspect both datasets and clean them so only the essential columns remain, consider using an ERD to do this"
   ]
  }
 ],
 "metadata": {
  "interpreter": {
   "hash": "d0612af51d520778623e3976a8283ab01d740464dfd1d7760c60614b40f0e147"
  },
  "kernelspec": {
   "display_name": "Python 3.8.8 ('base')",
   "language": "python",
   "name": "python3"
  },
  "language_info": {
   "codemirror_mode": {
    "name": "ipython",
    "version": 3
   },
   "file_extension": ".py",
   "mimetype": "text/x-python",
   "name": "python",
   "nbconvert_exporter": "python",
   "pygments_lexer": "ipython3",
   "version": "3.8.8"
  },
  "orig_nbformat": 4
 },
 "nbformat": 4,
 "nbformat_minor": 2
}
